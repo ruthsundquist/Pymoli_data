{
 "cells": [
  {
   "cell_type": "code",
   "execution_count": 3,
   "metadata": {},
   "outputs": [
    {
     "name": "stdout",
     "output_type": "stream",
     "text": [
      "     Purchase ID               SN  Age                 Gender  Item ID  \\\n",
      "0              0          Lisim78   20                   Male      108   \n",
      "1              1      Lisovynya38   40                   Male      143   \n",
      "2              2       Ithergue48   24                   Male       92   \n",
      "3              3    Chamassasya86   24                   Male      100   \n",
      "4              4        Iskosia90   23                   Male      131   \n",
      "5              5          Yalae81   22                   Male       81   \n",
      "6              6        Itheria73   36                   Male      169   \n",
      "7              7      Iskjaskst81   20                   Male      162   \n",
      "8              8        Undjask33   22                   Male       21   \n",
      "9              9      Chanosian48   35  Other / Non-Disclosed      136   \n",
      "10            10        Inguron55   23                   Male       95   \n",
      "11            11     Haisrisuir60   23                   Male      162   \n",
      "12            12     Saelaephos52   21                   Male      116   \n",
      "13            13      Assjaskan73   22                   Male        4   \n",
      "14            14      Saesrideu94   35                   Male      165   \n",
      "15            15        Lisassa64   21                 Female       98   \n",
      "16            16        Lisirra25   20                   Male       40   \n",
      "17            17        Zontibe81   21                   Male      161   \n",
      "18            18        Reunasu60   22                 Female       82   \n",
      "19            19        Chamalo71   30                   Male       89   \n",
      "20            20     Iathenudil29   20                   Male       57   \n",
      "21            21    Phiarithdeu40   20                   Male      168   \n",
      "22            22     Siarithria38   38  Other / Non-Disclosed       24   \n",
      "23            23         Eyrian71   40                   Male      151   \n",
      "24            24          Siala43   30                   Male      141   \n",
      "25            25        Lisirra87   29                   Male      178   \n",
      "26            26       Lirtossa84   11                   Male       71   \n",
      "27            27          Eusri44    7                   Male       96   \n",
      "28            28           Aela59   21                   Male      119   \n",
      "29            29          Tyida79   24                   Male       37   \n",
      "..           ...              ...  ...                    ...      ...   \n",
      "750          750         Iljask75   22                   Male      167   \n",
      "751          751      Lisjaskan36   11                   Male      180   \n",
      "752          752    Mindjasksya61   17                   Male      112   \n",
      "753          753   Frichirranya75   36                   Male      178   \n",
      "754          754  Pheosurllorin41   23                 Female       79   \n",
      "755          755         Raesty92   12                   Male       76   \n",
      "756          756          Ilast79   20                   Male       73   \n",
      "757          757        Eratiel90   18                   Male       57   \n",
      "758          758           Iral74   21                   Male      182   \n",
      "759          759      Tyaelorap29   25                   Male       72   \n",
      "760          760       Aithelis62   21                   Male       44   \n",
      "761          761          Assim27   45                   Male       17   \n",
      "762          762           Asur53   26                   Male      110   \n",
      "763          763     Lassilsala30   21                   Male       85   \n",
      "764          764     Saedaiphos46   18                   Male      113   \n",
      "765          765          Irith83   18                   Male      130   \n",
      "766          766     Aelastirin39   23                   Male       58   \n",
      "767          767          Ilmol66    8                 Female       92   \n",
      "768          768     Assassasta79   38                   Male       92   \n",
      "769          769        Ilosian36   15                   Male      145   \n",
      "770          770       Lirtosia63   34                   Male       12   \n",
      "771          771     Iskossasda43   16                   Male       25   \n",
      "772          772           Asur53   26                   Male      136   \n",
      "773          773           Hala31   21                   Male       19   \n",
      "774          774       Jiskjask80   11                   Male      101   \n",
      "775          775       Aethedru70   21                 Female       60   \n",
      "776          776           Iral74   21                   Male      164   \n",
      "777          777       Yathecal72   20                   Male       67   \n",
      "778          778          Sisur91    7                   Male      101   \n",
      "779          779        Ennrian78   24                   Male       50   \n",
      "\n",
      "                                        Item Name  Price  \n",
      "0       Extraction, Quickblade Of Trembling Hands   3.53  \n",
      "1                               Frenzied Scimitar   1.56  \n",
      "2                                    Final Critic   4.88  \n",
      "3                                     Blindscythe   3.27  \n",
      "4                                            Fury   1.44  \n",
      "5                                       Dreamkiss   3.61  \n",
      "6          Interrogator, Blood Blade of the Queen   2.18  \n",
      "7                                   Abyssal Shard   2.67  \n",
      "8                                       Souleater   1.10  \n",
      "9                    Ghastly Adamantite Protector   3.58  \n",
      "10                          Singed Onyx Warscythe   4.74  \n",
      "11                                  Abyssal Shard   2.67  \n",
      "12                        Renewed Skeletal Katana   4.18  \n",
      "13                             Bloodlord's Fetish   1.70  \n",
      "14                    Bone Crushing Silver Skewer   4.86  \n",
      "15                    Deadline, Voice Of Subtlety   2.89  \n",
      "16                                  Second Chance   2.52  \n",
      "17                                         Devine   1.76  \n",
      "18                                        Nirvana   4.90  \n",
      "19              Blazefury, Protector of Delusions   4.64  \n",
      "20                Despair, Favor of Due Diligence   4.60  \n",
      "21            Sun Strike, Jaws of Twisted Visions   1.48  \n",
      "22                                  Warped Fetish   3.81  \n",
      "23                                      Severance   3.40  \n",
      "24                                     Persuasion   3.19  \n",
      "25   Oathbreaker, Last Hope of the Breaking Storm   4.23  \n",
      "26                                         Demise   1.61  \n",
      "27                    Blood-Forged Skeletal Spine   3.09  \n",
      "28      Stormbringer, Dark Blade of Ending Misery   4.32  \n",
      "29            Shadow Strike, Glory of Ending Hope   3.16  \n",
      "..                                            ...    ...  \n",
      "750                   Malice, Legacy of the Queen   3.61  \n",
      "751                                   Stormcaller   3.36  \n",
      "752                                  Worldbreaker   2.60  \n",
      "753  Oathbreaker, Last Hope of the Breaking Storm   4.23  \n",
      "754                           Alpha, Oath of Zeal   4.05  \n",
      "755                      Haunted Bronzed Bludgeon   3.15  \n",
      "756                                   Ritual Mace   2.05  \n",
      "757               Despair, Favor of Due Diligence   4.60  \n",
      "758                                     Toothpick   4.03  \n",
      "759                                 Winter's Bite   3.77  \n",
      "760                         Bonecarvin Battle Axe   2.38  \n",
      "761                  Lazarus, Terror of the Earth   1.70  \n",
      "762                                    Suspension   1.44  \n",
      "763                                Malificent Bag   1.75  \n",
      "764                             Solitude's Reaver   4.07  \n",
      "765                                         Alpha   2.07  \n",
      "766             Freak's Bite, Favor of Holy Might   4.14  \n",
      "767                                  Final Critic   4.88  \n",
      "768                                  Final Critic   4.88  \n",
      "769                          Fiery Glass Crusader   4.58  \n",
      "770                                         Dawne   1.02  \n",
      "771                                     Hero Cane   4.35  \n",
      "772                  Ghastly Adamantite Protector   3.58  \n",
      "773                 Pursuit, Cudgel of Necromancy   1.02  \n",
      "774                                  Final Critic   4.19  \n",
      "775                                          Wolf   3.54  \n",
      "776                              Exiled Doomblade   1.63  \n",
      "777         Celeste, Incarnation of the Corrupted   3.46  \n",
      "778                                  Final Critic   4.19  \n",
      "779                                          Dawn   4.60  \n",
      "\n",
      "[780 rows x 7 columns]\n"
     ]
    }
   ],
   "source": [
    "import pandas as pd\n",
    "first_df = pd.read_csv(\"C:\\\\Users\\\\HollyerRuthAnn\\\\PANDAS\\\\PYMOLI_DATA.CSV\")\n",
    "print(first_df)\n"
   ]
  },
  {
   "cell_type": "code",
   "execution_count": 4,
   "metadata": {},
   "outputs": [
    {
     "name": "stdout",
     "output_type": "stream",
     "text": [
      "Total Players  576\n"
     ]
    }
   ],
   "source": [
    "#Display the total number of players\n",
    "print(\"Total Players  \" + str(first_df['SN'].nunique()))"
   ]
  },
  {
   "cell_type": "code",
   "execution_count": 5,
   "metadata": {},
   "outputs": [
    {
     "name": "stdout",
     "output_type": "stream",
     "text": [
      "179\n",
      " 3.05\n",
      "780\n",
      "Total price: $2379.77\n"
     ]
    }
   ],
   "source": [
    "#Run basic calculations to obtain number of unique items, average price, etc\n",
    "print(first_df['Item Name'].nunique())\n",
    "print(' {:.3}'.format(first_df['Price'].mean()))\n",
    "print(len(first_df))\n",
    "print(\"Total price: $\" + str(first_df['Price'].sum()))"
   ]
  },
  {
   "cell_type": "code",
   "execution_count": 6,
   "metadata": {},
   "outputs": [
    {
     "data": {
      "text/html": [
       "<div>\n",
       "<style scoped>\n",
       "    .dataframe tbody tr th:only-of-type {\n",
       "        vertical-align: middle;\n",
       "    }\n",
       "\n",
       "    .dataframe tbody tr th {\n",
       "        vertical-align: top;\n",
       "    }\n",
       "\n",
       "    .dataframe thead th {\n",
       "        text-align: right;\n",
       "    }\n",
       "</style>\n",
       "<table border=\"1\" class=\"dataframe\">\n",
       "  <thead>\n",
       "    <tr style=\"text-align: right;\">\n",
       "      <th></th>\n",
       "      <th>Number of Uniquue Items</th>\n",
       "      <th>Average Price</th>\n",
       "      <th>Number of Purchases</th>\n",
       "      <th>Total Revenue</th>\n",
       "    </tr>\n",
       "  </thead>\n",
       "  <tbody>\n",
       "    <tr>\n",
       "      <th>0</th>\n",
       "      <td>179</td>\n",
       "      <td>$3.05</td>\n",
       "      <td>780</td>\n",
       "      <td>$2,379.77</td>\n",
       "    </tr>\n",
       "  </tbody>\n",
       "</table>\n",
       "</div>"
      ],
      "text/plain": [
       "   Number of Uniquue Items    Average Price      Number of Purchases      \\\n",
       "0                         179             $3.05                      780   \n",
       "\n",
       "  Total Revenue     \n",
       "0        $2,379.77  "
      ]
     },
     "execution_count": 6,
     "metadata": {},
     "output_type": "execute_result"
    }
   ],
   "source": [
    "#Create a summary data frame to holdthe results\n",
    "Summary_df = pd.DataFrame ({\"Number of Uniquue Items   \":[179],\n",
    "                           \"Average Price    \":[\"$3.05\"],\n",
    "                           \"Number of Purchases    \":[780],\n",
    "                           \"Total Revenue   \":[\"$2,379.77\"]})\n",
    "Summary_df"
   ]
  },
  {
   "cell_type": "code",
   "execution_count": 7,
   "metadata": {
    "scrolled": false
   },
   "outputs": [
    {
     "name": "stdout",
     "output_type": "stream",
     "text": [
      "Male                     484\n",
      "Female                    81\n",
      "Other / Non-Disclosed     11\n",
      "Name: Gender, dtype: int64\n"
     ]
    }
   ],
   "source": [
    "#Gender Demographics percentage & count of M,F, non-disclosed players\n",
    "df_temp = (first_df.drop_duplicates(['SN','Gender']))\n",
    "count_var = df_temp[\"Gender\"].value_counts()\n",
    "print(df_temp[\"Gender\"].value_counts())"
   ]
  },
  {
   "cell_type": "code",
   "execution_count": 8,
   "metadata": {},
   "outputs": [
    {
     "data": {
      "text/plain": [
       "576"
      ]
     },
     "execution_count": 8,
     "metadata": {},
     "output_type": "execute_result"
    }
   ],
   "source": [
    "#Total number of Players - no duplicates\n",
    "len(df_temp[\"Gender\"])"
   ]
  },
  {
   "cell_type": "code",
   "execution_count": 9,
   "metadata": {},
   "outputs": [],
   "source": [
    "GP = df_temp[\"Gender\"].value_counts()/len(df_temp[\"Gender\"])*100"
   ]
  },
  {
   "cell_type": "code",
   "execution_count": 10,
   "metadata": {},
   "outputs": [
    {
     "data": {
      "text/plain": [
       "Male                     84.03\n",
       "Female                   14.06\n",
       "Other / Non-Disclosed     1.91\n",
       "Name: Gender, dtype: float64"
      ]
     },
     "execution_count": 10,
     "metadata": {},
     "output_type": "execute_result"
    }
   ],
   "source": [
    "GP.round(2)"
   ]
  },
  {
   "cell_type": "code",
   "execution_count": 11,
   "metadata": {},
   "outputs": [
    {
     "name": "stdout",
     "output_type": "stream",
     "text": [
      "780\n",
      "113\n",
      "652\n",
      "15\n"
     ]
    }
   ],
   "source": [
    "#Purchasing Analysis Gener\n",
    "a = len(first_df[\"Gender\"])\n",
    "print(a)\n",
    "b = len(first_df.loc[first_df[\"Gender\"]=='Female'])\n",
    "print (b)\n",
    "c = len(first_df.loc[first_df[\"Gender\"]=='Male'])\n",
    "print (c)\n",
    "d = len(first_df.loc[first_df[\"Gender\"]=='Other / Non-Disclosed'])\n",
    "print (d)"
   ]
  },
  {
   "cell_type": "code",
   "execution_count": 12,
   "metadata": {},
   "outputs": [
    {
     "name": "stdout",
     "output_type": "stream",
     "text": [
      "                      Purchase ID Price         \n",
      "                              len  mean      sum\n",
      "Gender                                          \n",
      "Female                        113  3.20   361.94\n",
      "Male                          652  3.02  1967.64\n",
      "Other / Non-Disclosed          15  3.35    50.19\n"
     ]
    },
    {
     "data": {
      "text/html": [
       "<div>\n",
       "<style scoped>\n",
       "    .dataframe tbody tr th:only-of-type {\n",
       "        vertical-align: middle;\n",
       "    }\n",
       "\n",
       "    .dataframe tbody tr th {\n",
       "        vertical-align: top;\n",
       "    }\n",
       "\n",
       "    .dataframe thead tr th {\n",
       "        text-align: left;\n",
       "    }\n",
       "\n",
       "    .dataframe thead tr:last-of-type th {\n",
       "        text-align: right;\n",
       "    }\n",
       "</style>\n",
       "<table border=\"1\" class=\"dataframe\">\n",
       "  <thead>\n",
       "    <tr>\n",
       "      <th></th>\n",
       "      <th>Purchase ID</th>\n",
       "      <th colspan=\"2\" halign=\"left\">Price</th>\n",
       "    </tr>\n",
       "    <tr>\n",
       "      <th></th>\n",
       "      <th>len</th>\n",
       "      <th>mean</th>\n",
       "      <th>sum</th>\n",
       "    </tr>\n",
       "    <tr>\n",
       "      <th>Gender</th>\n",
       "      <th></th>\n",
       "      <th></th>\n",
       "      <th></th>\n",
       "    </tr>\n",
       "  </thead>\n",
       "  <tbody>\n",
       "    <tr>\n",
       "      <th>Female</th>\n",
       "      <td>113</td>\n",
       "      <td>3.20</td>\n",
       "      <td>361.94</td>\n",
       "    </tr>\n",
       "    <tr>\n",
       "      <th>Male</th>\n",
       "      <td>652</td>\n",
       "      <td>3.02</td>\n",
       "      <td>1967.64</td>\n",
       "    </tr>\n",
       "    <tr>\n",
       "      <th>Other / Non-Disclosed</th>\n",
       "      <td>15</td>\n",
       "      <td>3.35</td>\n",
       "      <td>50.19</td>\n",
       "    </tr>\n",
       "  </tbody>\n",
       "</table>\n",
       "</div>"
      ],
      "text/plain": [
       "                      Purchase ID Price         \n",
       "                              len  mean      sum\n",
       "Gender                                          \n",
       "Female                        113  3.20   361.94\n",
       "Male                          652  3.02  1967.64\n",
       "Other / Non-Disclosed          15  3.35    50.19"
      ]
     },
     "execution_count": 12,
     "metadata": {},
     "output_type": "execute_result"
    }
   ],
   "source": [
    "import numpy as np\n",
    "gender_sum = first_df.groupby('Gender').agg({\"Purchase ID\": len, \"Price\": [np.mean ,\"sum\" ]}).round(2)\n",
    "print(gender_sum)\n",
    "gender_sum"
   ]
  },
  {
   "cell_type": "code",
   "execution_count": 13,
   "metadata": {},
   "outputs": [
    {
     "name": "stdout",
     "output_type": "stream",
     "text": [
      "Gender\n",
      "Female                   3.20\n",
      "Male                     3.02\n",
      "Other / Non-Disclosed    3.35\n",
      "Name: Price, dtype: float64\n",
      "Gender\n",
      "Female                    361.94\n",
      "Male                     1967.64\n",
      "Other / Non-Disclosed      50.19\n",
      "Name: Price, dtype: float64\n"
     ]
    },
    {
     "data": {
      "text/plain": [
       "Female                   4.47\n",
       "Male                     4.07\n",
       "Other / Non-Disclosed    4.56\n",
       "dtype: float64"
      ]
     },
     "execution_count": 13,
     "metadata": {},
     "output_type": "execute_result"
    }
   ],
   "source": [
    "#Purchase analysis by Gender\n",
    "f = first_df.groupby (\"Gender\")\n",
    "g = f [\"Price\"].mean().round(2)\n",
    "h = f [\"Price\"].sum().round(2)\n",
    "print(g)\n",
    "print (h)\n",
    "(h/count_var).round(2)"
   ]
  },
  {
   "cell_type": "code",
   "execution_count": 14,
   "metadata": {},
   "outputs": [
    {
     "name": "stdout",
     "output_type": "stream",
     "text": [
      "[0, 10, 15, 20, 25, 30, 35, 40, 99]\n"
     ]
    }
   ],
   "source": [
    "#Age Demographics - create bins\n",
    "import pandas as pd\n",
    "\n",
    "data_df = pd.read_csv(\"C:\\\\Users\\\\HollyerRuthAnn\\\\PANDAS\\\\PYMOLI_DATA.csv\")\n",
    "maxage = data_df['Age'].max()\n",
    "age_bins = [0, 10, 15]\n",
    "while age_bins[len(age_bins)-1] < maxage:\n",
    "    age_bins.append(age_bins[len(age_bins) - 1] + 5)\n",
    "age_bins[-1]= 99\n",
    "print(age_bins)"
   ]
  },
  {
   "cell_type": "code",
   "execution_count": 15,
   "metadata": {},
   "outputs": [],
   "source": [
    "#Creat names for bins\n",
    "group_names = [\"<10\",\"10-14\",\"15-19\",\"20-24\",\"25-29\",\"30-34\",\"35-39\",\"40-45\"]"
   ]
  },
  {
   "cell_type": "code",
   "execution_count": 16,
   "metadata": {},
   "outputs": [
    {
     "data": {
      "text/html": [
       "<div>\n",
       "<style scoped>\n",
       "    .dataframe tbody tr th:only-of-type {\n",
       "        vertical-align: middle;\n",
       "    }\n",
       "\n",
       "    .dataframe tbody tr th {\n",
       "        vertical-align: top;\n",
       "    }\n",
       "\n",
       "    .dataframe thead th {\n",
       "        text-align: right;\n",
       "    }\n",
       "</style>\n",
       "<table border=\"1\" class=\"dataframe\">\n",
       "  <thead>\n",
       "    <tr style=\"text-align: right;\">\n",
       "      <th></th>\n",
       "      <th>Purchase ID</th>\n",
       "      <th>SN</th>\n",
       "      <th>Age</th>\n",
       "      <th>Gender</th>\n",
       "      <th>Item ID</th>\n",
       "      <th>Item Name</th>\n",
       "      <th>Price</th>\n",
       "      <th>AGE GROUPS</th>\n",
       "    </tr>\n",
       "  </thead>\n",
       "  <tbody>\n",
       "    <tr>\n",
       "      <th>0</th>\n",
       "      <td>0</td>\n",
       "      <td>Lisim78</td>\n",
       "      <td>20</td>\n",
       "      <td>Male</td>\n",
       "      <td>108</td>\n",
       "      <td>Extraction, Quickblade Of Trembling Hands</td>\n",
       "      <td>3.53</td>\n",
       "      <td>20-24</td>\n",
       "    </tr>\n",
       "    <tr>\n",
       "      <th>1</th>\n",
       "      <td>1</td>\n",
       "      <td>Lisovynya38</td>\n",
       "      <td>40</td>\n",
       "      <td>Male</td>\n",
       "      <td>143</td>\n",
       "      <td>Frenzied Scimitar</td>\n",
       "      <td>1.56</td>\n",
       "      <td>40-45</td>\n",
       "    </tr>\n",
       "    <tr>\n",
       "      <th>2</th>\n",
       "      <td>2</td>\n",
       "      <td>Ithergue48</td>\n",
       "      <td>24</td>\n",
       "      <td>Male</td>\n",
       "      <td>92</td>\n",
       "      <td>Final Critic</td>\n",
       "      <td>4.88</td>\n",
       "      <td>20-24</td>\n",
       "    </tr>\n",
       "    <tr>\n",
       "      <th>3</th>\n",
       "      <td>3</td>\n",
       "      <td>Chamassasya86</td>\n",
       "      <td>24</td>\n",
       "      <td>Male</td>\n",
       "      <td>100</td>\n",
       "      <td>Blindscythe</td>\n",
       "      <td>3.27</td>\n",
       "      <td>20-24</td>\n",
       "    </tr>\n",
       "    <tr>\n",
       "      <th>4</th>\n",
       "      <td>4</td>\n",
       "      <td>Iskosia90</td>\n",
       "      <td>23</td>\n",
       "      <td>Male</td>\n",
       "      <td>131</td>\n",
       "      <td>Fury</td>\n",
       "      <td>1.44</td>\n",
       "      <td>20-24</td>\n",
       "    </tr>\n",
       "  </tbody>\n",
       "</table>\n",
       "</div>"
      ],
      "text/plain": [
       "   Purchase ID             SN  Age Gender  Item ID  \\\n",
       "0            0        Lisim78   20   Male      108   \n",
       "1            1    Lisovynya38   40   Male      143   \n",
       "2            2     Ithergue48   24   Male       92   \n",
       "3            3  Chamassasya86   24   Male      100   \n",
       "4            4      Iskosia90   23   Male      131   \n",
       "\n",
       "                                   Item Name  Price AGE GROUPS  \n",
       "0  Extraction, Quickblade Of Trembling Hands   3.53      20-24  \n",
       "1                          Frenzied Scimitar   1.56      40-45  \n",
       "2                               Final Critic   4.88      20-24  \n",
       "3                                Blindscythe   3.27      20-24  \n",
       "4                                       Fury   1.44      20-24  "
      ]
     },
     "execution_count": 16,
     "metadata": {},
     "output_type": "execute_result"
    }
   ],
   "source": [
    "data_df[\"AGE GROUPS\"] = pd.cut(data_df[\"Age\"],age_bins, labels= group_names, right = False)\n",
    "data_df.head()"
   ]
  },
  {
   "cell_type": "code",
   "execution_count": 17,
   "metadata": {},
   "outputs": [],
   "source": [
    "#Create a group by object based upon Age Groups\n",
    "Age = data_df.groupby(\"AGE GROUPS\")"
   ]
  },
  {
   "cell_type": "code",
   "execution_count": 18,
   "metadata": {},
   "outputs": [
    {
     "name": "stdout",
     "output_type": "stream",
     "text": [
      "                  SN\n",
      "AGE GROUPS          \n",
      "<10         0.029514\n",
      "10-14       0.038194\n",
      "15-19       0.185764\n",
      "20-24       0.447917\n",
      "25-29       0.133681\n",
      "30-34       0.090278\n",
      "35-39       0.053819\n",
      "40-45       0.020833\n"
     ]
    },
    {
     "data": {
      "text/html": [
       "<div>\n",
       "<style scoped>\n",
       "    .dataframe tbody tr th:only-of-type {\n",
       "        vertical-align: middle;\n",
       "    }\n",
       "\n",
       "    .dataframe tbody tr th {\n",
       "        vertical-align: top;\n",
       "    }\n",
       "\n",
       "    .dataframe thead th {\n",
       "        text-align: right;\n",
       "    }\n",
       "</style>\n",
       "<table border=\"1\" class=\"dataframe\">\n",
       "  <thead>\n",
       "    <tr style=\"text-align: right;\">\n",
       "      <th></th>\n",
       "      <th>SN</th>\n",
       "    </tr>\n",
       "    <tr>\n",
       "      <th>AGE GROUPS</th>\n",
       "      <th></th>\n",
       "    </tr>\n",
       "  </thead>\n",
       "  <tbody>\n",
       "    <tr>\n",
       "      <th>&lt;10</th>\n",
       "      <td>17</td>\n",
       "    </tr>\n",
       "    <tr>\n",
       "      <th>10-14</th>\n",
       "      <td>22</td>\n",
       "    </tr>\n",
       "    <tr>\n",
       "      <th>15-19</th>\n",
       "      <td>107</td>\n",
       "    </tr>\n",
       "    <tr>\n",
       "      <th>20-24</th>\n",
       "      <td>258</td>\n",
       "    </tr>\n",
       "    <tr>\n",
       "      <th>25-29</th>\n",
       "      <td>77</td>\n",
       "    </tr>\n",
       "    <tr>\n",
       "      <th>30-34</th>\n",
       "      <td>52</td>\n",
       "    </tr>\n",
       "    <tr>\n",
       "      <th>35-39</th>\n",
       "      <td>31</td>\n",
       "    </tr>\n",
       "    <tr>\n",
       "      <th>40-45</th>\n",
       "      <td>12</td>\n",
       "    </tr>\n",
       "  </tbody>\n",
       "</table>\n",
       "</div>"
      ],
      "text/plain": [
       "             SN\n",
       "AGE GROUPS     \n",
       "<10          17\n",
       "10-14        22\n",
       "15-19       107\n",
       "20-24       258\n",
       "25-29        77\n",
       "30-34        52\n",
       "35-39        31\n",
       "40-45        12"
      ]
     },
     "execution_count": 18,
     "metadata": {},
     "output_type": "execute_result"
    }
   ],
   "source": [
    "import numpy as np\n",
    "agegroups_sum = data_df.groupby ('AGE GROUPS').agg({\"SN\":pd.Series.nunique}).round(2)\n",
    "#to create summary table\n",
    "print(agegroups_sum /len(df_temp[\"Gender\"]))  #option 1\n",
    "agegroups_sum  #option 2 in notebook only"
   ]
  },
  {
   "cell_type": "code",
   "execution_count": 19,
   "metadata": {},
   "outputs": [
    {
     "name": "stdout",
     "output_type": "stream",
     "text": [
      "             Total Price  Count   Avg\n",
      "SN                                   \n",
      "Lisosia93          18.96      5  3.79\n",
      "Idastidru52        15.45      4  3.86\n",
      "Chamjask73         13.83      3  4.61\n",
      "Iral74             13.62      4  3.40\n",
      "Iskadarya95        13.10      3  4.37\n"
     ]
    }
   ],
   "source": [
    "#Find Top Spenders\n",
    "\n",
    "z = data_df.groupby(\"SN\").sum()\n",
    "y = data_df.groupby(\"SN\").count()\n",
    "x = data_df.groupby(\"SN\").mean().round(2)\n",
    "z_names = pd.DataFrame({ \"Total Price\": z[\"Price\"],\n",
    "                         \"Count\": y[\"Purchase ID\"],\n",
    "                       \"Avg\": x[\"Price\"]})\n",
    "z_names = z_names.sort_values(\"Total Price\", ascending = False).head()\n",
    "print(z_names)"
   ]
  },
  {
   "cell_type": "code",
   "execution_count": 20,
   "metadata": {},
   "outputs": [
    {
     "data": {
      "text/html": [
       "<div>\n",
       "<style scoped>\n",
       "    .dataframe tbody tr th:only-of-type {\n",
       "        vertical-align: middle;\n",
       "    }\n",
       "\n",
       "    .dataframe tbody tr th {\n",
       "        vertical-align: top;\n",
       "    }\n",
       "\n",
       "    .dataframe thead th {\n",
       "        text-align: right;\n",
       "    }\n",
       "</style>\n",
       "<table border=\"1\" class=\"dataframe\">\n",
       "  <thead>\n",
       "    <tr style=\"text-align: right;\">\n",
       "      <th></th>\n",
       "      <th>Total Price</th>\n",
       "      <th>Purchase Count</th>\n",
       "      <th>Average Purchase Price: $</th>\n",
       "    </tr>\n",
       "    <tr>\n",
       "      <th>SN</th>\n",
       "      <th></th>\n",
       "      <th></th>\n",
       "      <th></th>\n",
       "    </tr>\n",
       "  </thead>\n",
       "  <tbody>\n",
       "    <tr>\n",
       "      <th>Lisosia93</th>\n",
       "      <td>18.96</td>\n",
       "      <td>5</td>\n",
       "      <td>3.79</td>\n",
       "    </tr>\n",
       "    <tr>\n",
       "      <th>Idastidru52</th>\n",
       "      <td>15.45</td>\n",
       "      <td>4</td>\n",
       "      <td>3.86</td>\n",
       "    </tr>\n",
       "    <tr>\n",
       "      <th>Chamjask73</th>\n",
       "      <td>13.83</td>\n",
       "      <td>3</td>\n",
       "      <td>4.61</td>\n",
       "    </tr>\n",
       "    <tr>\n",
       "      <th>Iral74</th>\n",
       "      <td>13.62</td>\n",
       "      <td>4</td>\n",
       "      <td>3.40</td>\n",
       "    </tr>\n",
       "    <tr>\n",
       "      <th>Iskadarya95</th>\n",
       "      <td>13.10</td>\n",
       "      <td>3</td>\n",
       "      <td>4.37</td>\n",
       "    </tr>\n",
       "  </tbody>\n",
       "</table>\n",
       "</div>"
      ],
      "text/plain": [
       "             Total Price  Purchase Count  Average Purchase Price: $\n",
       "SN                                                                 \n",
       "Lisosia93          18.96               5                       3.79\n",
       "Idastidru52        15.45               4                       3.86\n",
       "Chamjask73         13.83               3                       4.61\n",
       "Iral74             13.62               4                       3.40\n",
       "Iskadarya95        13.10               3                       4.37"
      ]
     },
     "execution_count": 20,
     "metadata": {},
     "output_type": "execute_result"
    }
   ],
   "source": [
    "TopSpenders_df = pd.DataFrame({ \"Total Price\":z[\"Price\"],\n",
    "                             \"Purchase Count\": y[\"Purchase ID\"],\n",
    "                             \"Average Purchase Price: $\": x[\"Price\"].round(2)})\n",
    "z_names = z_names.sort_values(\"Total Price\", ascending = False).head()\n",
    "TopSpenders_df.sort_values(\"Total Price\", ascending = False).head()"
   ]
  },
  {
   "cell_type": "code",
   "execution_count": 29,
   "metadata": {},
   "outputs": [
    {
     "name": "stdout",
     "output_type": "stream",
     "text": [
      "         Total Price  Average Price  Purchase Count  \\\n",
      "Item ID                                               \n",
      "178            50.76           4.23              12   \n",
      "145            41.22           4.58               9   \n",
      "108            31.77           3.53               9   \n",
      "82             44.10           4.90               9   \n",
      "19              8.16           1.02               8   \n",
      "\n",
      "                                                      Name  \n",
      "Item ID                                                     \n",
      "178      ((178, Oathbreaker, Last Hope of the Breaking ...  \n",
      "145      ((145, Fiery Glass Crusader), [Fiery Glass Cru...  \n",
      "108      ((108, Extraction, Quickblade Of Trembling Han...  \n",
      "82       ((82, Nirvana), [Nirvana, Nirvana, Nirvana, Ni...  \n",
      "19       ((19, Pursuit, Cudgel of Necromancy), [Pursuit...  \n"
     ]
    }
   ],
   "source": [
    "#Most Popular\n",
    "i = data_df.groupby(\"Item ID\").sum()\n",
    "j = data_df.groupby(\"Item ID\").mean()\n",
    "k = data_df.groupby(\"Item ID\").count()\n",
    "l = data_df.groupby([\"Item ID\", \"Item Name\"])\n",
    "\n",
    "p_names = pd.DataFrame({\"Total Price\":i[\"Price\"],\n",
    "                      \"Average Price\": j[\"Price\"],\n",
    "                      \"Purchase Count\": k[\"Purchase ID\"],\n",
    "                      \"Name\":l[\"Item Name\"]})\n",
    "\n",
    "\n",
    "p_names = p_names.sort_values(\"Purchase Count\", ascending = False).head()\n",
    "print(p_names)                                                    \n"
   ]
  },
  {
   "cell_type": "code",
   "execution_count": 22,
   "metadata": {},
   "outputs": [
    {
     "name": "stdout",
     "output_type": "stream",
     "text": [
      "         Total Price  Average Price  Purchase Count  \\\n",
      "Item ID                                               \n",
      "178            50.76           4.23              12   \n",
      "82             44.10           4.90               9   \n",
      "145            41.22           4.58               9   \n",
      "108            31.77           3.53               9   \n",
      "19              8.16           1.02               8   \n",
      "\n",
      "                                                      Name  \n",
      "Item ID                                                     \n",
      "178      ((178, Oathbreaker, Last Hope of the Breaking ...  \n",
      "82       ((82, Nirvana), [Nirvana, Nirvana, Nirvana, Ni...  \n",
      "145      ((145, Fiery Glass Crusader), [Fiery Glass Cru...  \n",
      "108      ((108, Extraction, Quickblade Of Trembling Han...  \n",
      "19       ((19, Pursuit, Cudgel of Necromancy), [Pursuit...  \n"
     ]
    }
   ],
   "source": [
    "p_names = p_names.sort_values(\"Total Price\", ascending = False).head()\n",
    "print(p_names) "
   ]
  },
  {
   "cell_type": "code",
   "execution_count": null,
   "metadata": {},
   "outputs": [],
   "source": []
  }
 ],
 "metadata": {
  "kernelspec": {
   "display_name": "Python 3",
   "language": "python",
   "name": "python3"
  },
  "language_info": {
   "codemirror_mode": {
    "name": "ipython",
    "version": 3
   },
   "file_extension": ".py",
   "mimetype": "text/x-python",
   "name": "python",
   "nbconvert_exporter": "python",
   "pygments_lexer": "ipython3",
   "version": "3.7.1"
  }
 },
 "nbformat": 4,
 "nbformat_minor": 2
}
